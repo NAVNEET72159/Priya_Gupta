{
 "cells": [
  {
   "cell_type": "markdown",
   "metadata": {},
   "source": [
    "# Write a program to find the profit and loss."
   ]
  },
  {
   "cell_type": "code",
   "execution_count": null,
   "metadata": {},
   "outputs": [],
   "source": [
    "# Cost Price = Buying price\n",
    "# Selling Price = Sell Price\n",
    "# Profit = Selling price - Cost price\n",
    "# Loss = Cost Price - Selling Price\n",
    "# Profit Percentage = (Profit/Cost Price)*100\n",
    "# Loss Percentage = (Loss/Cost Price)*100\n",
    "\n",
    "# Input: Cost Price and Selling Price\n",
    "# Output: Profit or Loss and Profit or Loss Percentage\n",
    "\n",
    "cost_price = float(input(\"Enter the Cost Price: \"))\n",
    "sell_price = float(input(\"Enter the Selling Price: \"))\n",
    "\n",
    "if cost_price > sell_price:\n",
    "    loss = cost_price - sell_price\n",
    "    loss_percentage = (loss/cost_price)*100\n",
    "    print(\"Loss is: \", loss)\n",
    "    print(\"Loss percentage is: \",loss_percentage)\n",
    "elif cost_price < sell_price:\n",
    "    profit = sell_price - cost_price\n",
    "    profit_percentage = (profit/cost_price)*100\n",
    "    print(\"Profit is: \", profit)\n",
    "    print(\"Profit Percentage is: \", profit_percentage)\n",
    "else: \n",
    "    print(\"No Profit No Loss\")"
   ]
  },
  {
   "cell_type": "markdown",
   "metadata": {},
   "source": [
    "# Write a program to calculate a discount and discount percentage given by the shopkeeper on the MRP of any product."
   ]
  },
  {
   "cell_type": "code",
   "execution_count": 4,
   "metadata": {},
   "outputs": [
    {
     "name": "stdout",
     "output_type": "stream",
     "text": [
      "The discount on the product is:  RS. 200.0  and discount percentage is:  20.0 %\n"
     ]
    }
   ],
   "source": [
    "# discount = MRP - Selling Price\n",
    "# discount_percent = (discount/MRP)*100\n",
    "\n",
    "MRP = float(input(\"Enter the MRP of the product: \"))\n",
    "Selling_Price = float(input(\"Enter the Selling Price of the product: \"))\n",
    "discount = MRP - Selling_Price\n",
    "discount_percent = (discount/MRP)*100\n",
    "print(\"The discount on the product is: \", \"RS.\", discount, \" and discount percentage is: \", discount_percent, \"%\")"
   ]
  },
  {
   "cell_type": "code",
   "execution_count": 13,
   "metadata": {},
   "outputs": [
    {
     "name": "stdout",
     "output_type": "stream",
     "text": [
      "11\n",
      "13\n",
      "15\n",
      "17\n",
      "19\n",
      "21\n",
      "23\n",
      "25\n",
      "27\n",
      "29\n",
      "31\n",
      "33\n",
      "35\n",
      "37\n",
      "39\n",
      "41\n",
      "43\n",
      "45\n",
      "47\n",
      "49\n",
      "51\n",
      "53\n",
      "55\n",
      "57\n",
      "59\n",
      "61\n",
      "63\n",
      "65\n",
      "67\n",
      "69\n",
      "71\n",
      "73\n",
      "75\n",
      "77\n",
      "79\n",
      "81\n",
      "83\n",
      "85\n",
      "87\n",
      "89\n",
      "91\n",
      "93\n",
      "95\n",
      "97\n",
      "99\n"
     ]
    }
   ],
   "source": [
    "Start = int(input(\"Enter a number: \"))\n",
    "Stop = int(input(\"Enter a number: \"))\n",
    "for i in range(Start, Stop):\n",
    "    if i % 2 == 0:\n",
    "        print(i, \"is an even number\")\n",
    "    else:\n",
    "        print(i, \"is an odd number\")"
   ]
  },
  {
   "cell_type": "markdown",
   "metadata": {},
   "source": [
    "# A triangle is valid if the sum of all the three angles is equal to 180 degrees. Write a program that asks the user to enter three integers as angles and check whether a triangle is valid or not. "
   ]
  },
  {
   "cell_type": "code",
   "execution_count": 3,
   "metadata": {},
   "outputs": [
    {
     "name": "stdout",
     "output_type": "stream",
     "text": [
      "The triangle is not valid\n"
     ]
    }
   ],
   "source": [
    "angleA = int(input(\"Enter the first angle: \"))\n",
    "angleB = int(input(\"Enter the second angle: \"))\n",
    "angleC = int(input(\"Enter the third angle: \"))\n",
    "\n",
    "if angleA + angleB + angleC == 180:\n",
    "    print(\"The triangle is valid\")\n",
    "else:\n",
    "    print(\"The triangle is not valid\")"
   ]
  },
  {
   "cell_type": "markdown",
   "metadata": {},
   "source": [
    "# Absolute Value \n",
    "* negative value changed into positive values \n",
    "* positive value will remain positive"
   ]
  },
  {
   "cell_type": "code",
   "execution_count": 7,
   "metadata": {},
   "outputs": [
    {
     "name": "stdout",
     "output_type": "stream",
     "text": [
      "The absolute value of the number is:  5\n"
     ]
    }
   ],
   "source": [
    "num = int(input(\"Enter any integer: \"))\n",
    "if num < 0:\n",
    "    num *= -1\n",
    "    print(\"The absolute value of the number is: \", num)\n",
    "else:\n",
    "    print(\"The absolute value of the number is: \", num)"
   ]
  },
  {
   "cell_type": "code",
   "execution_count": 9,
   "metadata": {},
   "outputs": [
    {
     "name": "stdout",
     "output_type": "stream",
     "text": [
      "5\n"
     ]
    }
   ],
   "source": [
    "num = int(input(\"Enter any integer: \"))\n",
    "if num < 0:\n",
    "    print(num*-1)\n",
    "else:\n",
    "    print(num)"
   ]
  },
  {
   "cell_type": "markdown",
   "metadata": {},
   "source": [
    "*\n",
    "* *\n",
    "* * *\n",
    "* * * *\n",
    "* * * * *   \n",
    "* * * * * *\n",
    "* * * * * * *\n",
    "* * * * * * * *"
   ]
  },
  {
   "cell_type": "code",
   "execution_count": 12,
   "metadata": {},
   "outputs": [
    {
     "name": "stdout",
     "output_type": "stream",
     "text": [
      "* \n",
      "* * \n",
      "* * * \n",
      "* * * * \n",
      "* * * * * \n",
      "* * * * * * \n",
      "* * * * * * * \n",
      "* * * * * * * * \n",
      "* * * * * * * * * \n",
      "* * * * * * * * * * \n",
      "* * * * * * * * * * * \n",
      "* * * * * * * * * * * * \n",
      "* * * * * * * * * * * * * \n",
      "* * * * * * * * * * * * * * \n",
      "* * * * * * * * * * * * * * * \n",
      "* * * * * * * * * * * * * * * * \n",
      "* * * * * * * * * * * * * * * * * \n",
      "* * * * * * * * * * * * * * * * * * \n",
      "* * * * * * * * * * * * * * * * * * * \n",
      "* * * * * * * * * * * * * * * * * * * * \n"
     ]
    }
   ],
   "source": [
    "rows = int(input(\"Enter the number of rows: \"))\n",
    "for i in range(1, rows+1):\n",
    "    for j in range(1, i+1):\n",
    "        print(\"*\", end=\" \")\n",
    "    print()\n",
    "    "
   ]
  },
  {
   "cell_type": "code",
   "execution_count": null,
   "metadata": {},
   "outputs": [],
   "source": []
  },
  {
   "cell_type": "code",
   "execution_count": null,
   "metadata": {},
   "outputs": [],
   "source": []
  }
 ],
 "metadata": {
  "kernelspec": {
   "display_name": "base",
   "language": "python",
   "name": "python3"
  },
  "language_info": {
   "codemirror_mode": {
    "name": "ipython",
    "version": 3
   },
   "file_extension": ".py",
   "mimetype": "text/x-python",
   "name": "python",
   "nbconvert_exporter": "python",
   "pygments_lexer": "ipython3",
   "version": "3.10.9"
  },
  "orig_nbformat": 4
 },
 "nbformat": 4,
 "nbformat_minor": 2
}
