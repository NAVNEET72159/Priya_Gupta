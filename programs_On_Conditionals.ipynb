{
 "cells": [
  {
   "cell_type": "markdown",
   "metadata": {},
   "source": [
    "# Write a program to find the profit and loss."
   ]
  },
  {
   "cell_type": "code",
   "execution_count": null,
   "metadata": {},
   "outputs": [],
   "source": [
    "# Cost Price = Buying price\n",
    "# Selling Price = Sell Price\n",
    "# Profit = Selling price - Cost price\n",
    "# Loss = Cost Price - Selling Price\n",
    "# Profit Percentage = (Profit/Cost Price)*100\n",
    "# Loss Percentage = (Loss/Cost Price)*100\n",
    "\n",
    "# Input: Cost Price and Selling Price\n",
    "# Output: Profit or Loss and Profit or Loss Percentage\n",
    "\n",
    "cost_price = float(input(\"Enter the Cost Price: \"))\n",
    "sell_price = float(input(\"Enter the Selling Price: \"))\n",
    "\n",
    "if cost_price > sell_price:\n",
    "    loss = cost_price - sell_price\n",
    "    loss_percentage = (loss/cost_price)*100\n",
    "    print(\"Loss is: \", loss)\n",
    "    print(\"Loss percentage is: \",loss_percentage)\n",
    "elif cost_price < sell_price:\n",
    "    profit = sell_price - cost_price\n",
    "    profit_percentage = (profit/cost_price)*100\n",
    "    print(\"Profit is: \", profit)\n",
    "    print(\"Profit Percentage is: \", profit_percentage)\n",
    "else: \n",
    "    print(\"No Profit No Loss\")"
   ]
  },
  {
   "cell_type": "markdown",
   "metadata": {},
   "source": [
    "# Write a program to calculate a discount and discount percentage given by the shopkeeper on the MRP of any product."
   ]
  },
  {
   "cell_type": "code",
   "execution_count": 4,
   "metadata": {},
   "outputs": [
    {
     "name": "stdout",
     "output_type": "stream",
     "text": [
      "The discount on the product is:  RS. 200.0  and discount percentage is:  20.0 %\n"
     ]
    }
   ],
   "source": [
    "# discount = MRP - Selling Price\n",
    "# discount_percent = (discount/MRP)*100\n",
    "\n",
    "MRP = float(input(\"Enter the MRP of the product: \"))\n",
    "Selling_Price = float(input(\"Enter the Selling Price of the product: \"))\n",
    "discount = MRP - Selling_Price\n",
    "discount_percent = (discount/MRP)*100\n",
    "print(\"The discount on the product is: \", \"RS.\", discount, \" and discount percentage is: \", discount_percent, \"%\")"
   ]
  },
  {
   "cell_type": "markdown",
   "metadata": {},
   "source": []
  }
 ],
 "metadata": {
  "kernelspec": {
   "display_name": "base",
   "language": "python",
   "name": "python3"
  },
  "language_info": {
   "codemirror_mode": {
    "name": "ipython",
    "version": 3
   },
   "file_extension": ".py",
   "mimetype": "text/x-python",
   "name": "python",
   "nbconvert_exporter": "python",
   "pygments_lexer": "ipython3",
   "version": "3.10.9"
  },
  "orig_nbformat": 4
 },
 "nbformat": 4,
 "nbformat_minor": 2
}
