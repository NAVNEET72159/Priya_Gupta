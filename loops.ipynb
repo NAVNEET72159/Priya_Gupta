{
 "cells": [
  {
   "cell_type": "code",
   "execution_count": 1,
   "metadata": {},
   "outputs": [
    {
     "name": "stdout",
     "output_type": "stream",
     "text": [
      "Hello World\n",
      "Hello World\n",
      "Hello World\n",
      "Hello World\n",
      "Hello World\n",
      "Hello World\n",
      "Hello World\n",
      "Hello World\n",
      "Hello World\n",
      "Hello World\n"
     ]
    }
   ],
   "source": [
    "print(\"Hello World\")\n",
    "print(\"Hello World\")\n",
    "print(\"Hello World\")\n",
    "print(\"Hello World\")\n",
    "print(\"Hello World\")\n",
    "print(\"Hello World\")\n",
    "print(\"Hello World\")\n",
    "print(\"Hello World\")\n",
    "print(\"Hello World\")\n",
    "print(\"Hello World\")"
   ]
  },
  {
   "cell_type": "markdown",
   "metadata": {},
   "source": [
    "# Loops -> Repeting statements or expressions\n",
    "    * For Loops\n",
    "        > Are used when we know the number of iterations\n",
    "        * Normal\n",
    "        * Nested \n",
    "    * While Loops\n",
    "        > Are used when we don't know the number of iterations\n",
    "        * Normal\n",
    "        * Nested"
   ]
  },
  {
   "cell_type": "markdown",
   "metadata": {},
   "source": [
    "# For Loops\n",
    "    * for -> keyword\n",
    "    * i -> variable\n",
    "    * in -> Membership operator\n",
    "    * range -> function\n",
    "        * range defines the range of variable i.\n",
    "        * range(Stop) -> Strat value by default will be setted as 0, and increment will be by default setted as +1.\n",
    "        * range(Start, Stop) -> increment will be by default setted as +1.\n",
    "        * range (Start, Stop, increment)"
   ]
  },
  {
   "cell_type": "code",
   "execution_count": 2,
   "metadata": {},
   "outputs": [
    {
     "name": "stdout",
     "output_type": "stream",
     "text": [
      "Hello! World\n",
      "Hello! World\n",
      "Hello! World\n",
      "Hello! World\n",
      "Hello! World\n",
      "Hello! World\n",
      "Hello! World\n",
      "Hello! World\n",
      "Hello! World\n",
      "Hello! World\n"
     ]
    }
   ],
   "source": [
    "for i in range(0, 10):\n",
    "    print(\"Hello! World\")"
   ]
  },
  {
   "cell_type": "code",
   "execution_count": 11,
   "metadata": {},
   "outputs": [
    {
     "name": "stdout",
     "output_type": "stream",
     "text": [
      "3\n",
      "8\n"
     ]
    }
   ],
   "source": [
    "for i in range(3, 10, 5):\n",
    "    print(i)"
   ]
  },
  {
   "cell_type": "markdown",
   "metadata": {},
   "source": [
    "# Write a program to print n Natural Numbers."
   ]
  },
  {
   "cell_type": "code",
   "execution_count": 16,
   "metadata": {},
   "outputs": [
    {
     "name": "stdout",
     "output_type": "stream",
     "text": [
      "0\n",
      "2\n",
      "4\n",
      "6\n",
      "8\n",
      "10\n"
     ]
    }
   ],
   "source": [
    "n = int(input(\"Enter an number: \"))\n",
    "for i in range(0, n+1, 2):\n",
    "    print(i)"
   ]
  },
  {
   "cell_type": "markdown",
   "metadata": {},
   "source": [
    "# Write a program to print integer from m to n"
   ]
  },
  {
   "cell_type": "code",
   "execution_count": 1,
   "metadata": {},
   "outputs": [
    {
     "name": "stdout",
     "output_type": "stream",
     "text": [
      "-10\n",
      "-9\n",
      "-8\n",
      "-7\n",
      "-6\n",
      "-5\n",
      "-4\n",
      "-3\n",
      "-2\n",
      "-1\n",
      "0\n",
      "1\n",
      "2\n",
      "3\n",
      "4\n",
      "5\n",
      "6\n",
      "7\n",
      "8\n",
      "9\n"
     ]
    }
   ],
   "source": [
    "m = int(input(\"Enter nay number: \" ))\n",
    "n = int(input(\"Enter nay number: \" ))\n",
    "for i in range(m, n):\n",
    "    print(i)"
   ]
  },
  {
   "cell_type": "markdown",
   "metadata": {},
   "source": [
    "# Write a program to print sum of n natural numbers\n",
    "1+2+3+4+5 = 15"
   ]
  },
  {
   "cell_type": "code",
   "execution_count": 4,
   "metadata": {},
   "outputs": [
    {
     "name": "stdout",
     "output_type": "stream",
     "text": [
      "Sum of numbers from 1 to 10 is 55\n"
     ]
    }
   ],
   "source": [
    "num = int(input(\"Enter a number: \"))\n",
    "sum = 0\n",
    "for i in range(1, num+1):\n",
    "\n",
    "    sum += i\n",
    "\n",
    "print(\"Sum of numbers from 1 to\", num, \"is\", sum)"
   ]
  },
  {
   "cell_type": "markdown",
   "metadata": {},
   "source": [
    "# While Loop\n",
    "* while -> Keyword\n",
    "* Used when we don't know the number of iteration"
   ]
  },
  {
   "cell_type": "code",
   "execution_count": 8,
   "metadata": {},
   "outputs": [
    {
     "name": "stdout",
     "output_type": "stream",
     "text": [
      "Wrong user name\n",
      "Wrong user name\n",
      "Wrong user name\n",
      "Wrong password\n",
      "Wrong password\n",
      "Welcome to the system\n"
     ]
    }
   ],
   "source": [
    "while(True):\n",
    "    user_name = input(\"Enter your name: \")\n",
    "    if user_name == \"admin\":\n",
    "        password = input(\"Enter your password: \")\n",
    "        if password == \"1234\":\n",
    "            print(\"Welcome to the system\")\n",
    "            break\n",
    "        else:\n",
    "            print(\"Wrong password\")\n",
    "    else:\n",
    "        print(\"Wrong user name\")"
   ]
  },
  {
   "cell_type": "markdown",
   "metadata": {},
   "source": [
    "# Palendrome Numbers \n",
    "121 = 121"
   ]
  },
  {
   "cell_type": "code",
   "execution_count": 15,
   "metadata": {},
   "outputs": [
    {
     "name": "stdout",
     "output_type": "stream",
     "text": [
      "Palindrome\n"
     ]
    }
   ],
   "source": [
    "num = int(input(\"Enter a number: \"))\n",
    "temp = num\n",
    "sum = 0\n",
    "while temp > 0:\n",
    "    rem = temp % 10\n",
    "    sum = sum*10+rem\n",
    "    temp //= 10\n",
    "\n",
    "if num == sum:\n",
    "    print(\"Palindrome\")\n",
    "else:\n",
    "    print(\"Not palindrome\")"
   ]
  },
  {
   "cell_type": "markdown",
   "metadata": {},
   "source": [
    "# Reversing a Digit"
   ]
  },
  {
   "cell_type": "code",
   "execution_count": 3,
   "metadata": {},
   "outputs": [
    {
     "name": "stdout",
     "output_type": "stream",
     "text": [
      "Original Number:  12345\n",
      "Remainder:  5 Number:  1234 Reverse:  5 \n",
      "\n",
      "Remainder:  4 Number:  123 Reverse:  54 \n",
      "\n",
      "Remainder:  3 Number:  12 Reverse:  543 \n",
      "\n",
      "Remainder:  2 Number:  1 Reverse:  5432 \n",
      "\n",
      "Remainder:  1 Number:  0 Reverse:  54321 \n",
      "\n",
      "54321\n"
     ]
    }
   ],
   "source": [
    "# 123 = 321\n",
    "# 1234 = 4321\n",
    "\n",
    "num = int(input(\"Enter a number: \"))\n",
    "rev = 0\n",
    "print(\"Original Number: \", num)\n",
    "while num != 0:\n",
    "    rem = num%10\n",
    "    num = num//10\n",
    "    rev = rev*10 + rem\n",
    "    print(\"Remainder: \", rem, \"Number: \", num, \"Reverse: \", rev, \"\\n\")\n",
    "\n",
    "print(rev)"
   ]
  },
  {
   "cell_type": "markdown",
   "metadata": {},
   "source": [
    "# Palindrome Number"
   ]
  },
  {
   "cell_type": "code",
   "execution_count": 13,
   "metadata": {},
   "outputs": [
    {
     "name": "stdout",
     "output_type": "stream",
     "text": [
      "Remainder:  1 Temp Number:  12 Reverse:  1 Original Number 121 \n",
      "\n",
      "Remainder:  2 Temp Number:  1 Reverse:  12 Original Number 121 \n",
      "\n",
      "Remainder:  1 Temp Number:  0 Reverse:  121 Original Number 121 \n",
      "\n",
      "It is a palindrome number\n"
     ]
    }
   ],
   "source": [
    "# 123 = 321 -> It is not a palindrome number\n",
    "# 121 = 121 -> It is a palindrome number\n",
    "\n",
    "# Algorithm\n",
    "# 1. Get the number from the user\n",
    "# 2. Reverse the number\n",
    "# 3. Compare the number with the reversed number\n",
    "# 4. If both are same, print it is a palindrome number\n",
    "# 5. Else print it is not a palindrome number\n",
    "\n",
    "num = int(input(\"Enter a number: \"))\n",
    "temp = num\n",
    "rev = 0\n",
    "\n",
    "while temp != 0:\n",
    "    rem = temp%10\n",
    "    rev = rev*10+rem\n",
    "    temp = temp//10\n",
    "\n",
    "    print(\"Remainder: \", rem, \"Temp Number: \", temp, \"Reverse: \", rev, 'Original Number', num, \"\\n\")\n",
    "\n",
    "if num == rev:\n",
    "    print(\"It is a palindrome number\")\n",
    "else:\n",
    "    print(\"It is not a palindrome number\")"
   ]
  },
  {
   "cell_type": "code",
   "execution_count": null,
   "metadata": {},
   "outputs": [],
   "source": []
  }
 ],
 "metadata": {
  "kernelspec": {
   "display_name": "base",
   "language": "python",
   "name": "python3"
  },
  "language_info": {
   "codemirror_mode": {
    "name": "ipython",
    "version": 3
   },
   "file_extension": ".py",
   "mimetype": "text/x-python",
   "name": "python",
   "nbconvert_exporter": "python",
   "pygments_lexer": "ipython3",
   "version": "3.10.9"
  },
  "orig_nbformat": 4
 },
 "nbformat": 4,
 "nbformat_minor": 2
}
