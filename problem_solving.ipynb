{
 "cells": [
  {
   "cell_type": "markdown",
   "metadata": {},
   "source": [
    "# Simple Interest\n",
    "* Simple Interest = (Principal* Rate* Time)/100 //if rate is in percentage form\n",
    "* Simple Interest =  (Principal* Rate* Time) //if rate is not in percentage form"
   ]
  },
  {
   "cell_type": "code",
   "execution_count": 4,
   "metadata": {},
   "outputs": [
    {
     "name": "stdout",
     "output_type": "stream",
     "text": [
      "Simple interest is:  2500\n"
     ]
    }
   ],
   "source": [
    "principal = int(input(\"Enter the principal amount: \"))\n",
    "rate = float(input(\"Enter the rate of interest: \"))\n",
    "time = int(input(\"Enter the time in years: \"))\n",
    "\n",
    "simple_interest = int((principal * rate * time) / 100)\n",
    "print(\"Simple interest is: \", simple_interest)"
   ]
  },
  {
   "cell_type": "markdown",
   "metadata": {},
   "source": [
    "Principal = 10000.50        principal = 10000\n",
    "Rate = 5% = 5/100 = 0.05    //Anually  \n",
    "Rate = 0.05                 //Monthly"
   ]
  },
  {
   "cell_type": "markdown",
   "metadata": {},
   "source": [
    "Write a program to calculate simple interest:\n",
    "\n",
    "pricipal = 150000.67\n",
    "Rate = 5.5% @ monthly\n",
    "Time = 2.5 years"
   ]
  },
  {
   "cell_type": "markdown",
   "metadata": {},
   "source": [
    "# Pythogorus Theorem\n",
    "* (Hypotenuse)^2 = (Base)^2 + (Height)^2\n",
    "* Hypotenuse = (Base^2 + Height^2)^0.5"
   ]
  },
  {
   "cell_type": "code",
   "execution_count": 7,
   "metadata": {},
   "outputs": [
    {
     "name": "stdout",
     "output_type": "stream",
     "text": [
      "The hypotenuse is:  14.142135623730951\n"
     ]
    }
   ],
   "source": [
    "Base = int(input(\"Enter the base: \"))\n",
    "Height = int(input(\"Enter the height: \"))\n",
    "Hypotenuse = (Base**2 + Height**2)**0.5\n",
    "print(\"The hypotenuse is: \", Hypotenuse)"
   ]
  },
  {
   "cell_type": "markdown",
   "metadata": {},
   "source": [
    "# Above program in if-else"
   ]
  },
  {
   "cell_type": "code",
   "execution_count": 10,
   "metadata": {},
   "outputs": [
    {
     "name": "stdout",
     "output_type": "stream",
     "text": [
      "Invalid Choice\n"
     ]
    }
   ],
   "source": [
    "choice = input(\"Enter your choice: \")\n",
    "if choice == 'Hypotenuse':\n",
    "    prependicular = int(input(\"Enter the value of perpendicular: \"))\n",
    "    base = int(input(\"Enter the value of base: \"))\n",
    "    Hypotenuse = (prependicular**2 + base**2)**0.5\n",
    "    print(\"Hypotenuse is: \", Hypotenuse)\n",
    "elif choice == 'Perpendicular':\n",
    "    Hypotenuse = int(input(\"Enter the value of Hypotenuse: \"))\n",
    "    base = int(input(\"Enter the value of base: \"))\n",
    "    Perpendicular = (Hypotenuse**2 - base**2)**0.5\n",
    "    print(\"Perpendicular is: \", Perpendicular)\n",
    "elif choice == 'Base':\n",
    "    Hypotenuse = int(input(\"Enter the value of Hypotenuse: \"))\n",
    "    Perpendicular = int(input(\"Enter the value of Perpendicular: \"))\n",
    "    Base = (Hypotenuse**2 - Perpendicular**2)**0.5\n",
    "    print(\"Base is: \", Base)\n",
    "else:\n",
    "    print(\"Invalid Choice\")"
   ]
  },
  {
   "cell_type": "code",
   "execution_count": null,
   "metadata": {},
   "outputs": [],
   "source": []
  }
 ],
 "metadata": {
  "kernelspec": {
   "display_name": "Python 3",
   "language": "python",
   "name": "python3"
  },
  "language_info": {
   "codemirror_mode": {
    "name": "ipython",
    "version": 3
   },
   "file_extension": ".py",
   "mimetype": "text/x-python",
   "name": "python",
   "nbconvert_exporter": "python",
   "pygments_lexer": "ipython3",
   "version": "3.10.9"
  },
  "orig_nbformat": 4
 },
 "nbformat": 4,
 "nbformat_minor": 2
}
