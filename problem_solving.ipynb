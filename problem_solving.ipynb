{
 "cells": [
  {
   "cell_type": "markdown",
   "metadata": {},
   "source": [
    "# Simple Interest\n",
    "* Simple Interest = (Principal* Rate* Time)/100 //if rate is in percentage form\n",
    "* Simple Interest =  (Principal* Rate* Time) //if rate is not in percentage form"
   ]
  },
  {
   "cell_type": "code",
   "execution_count": 4,
   "metadata": {},
   "outputs": [
    {
     "name": "stdout",
     "output_type": "stream",
     "text": [
      "Simple interest is:  2500\n"
     ]
    }
   ],
   "source": [
    "principal = int(input(\"Enter the principal amount: \"))\n",
    "rate = float(input(\"Enter the rate of interest: \"))\n",
    "time = int(input(\"Enter the time in years: \"))\n",
    "\n",
    "simple_interest = int((principal * rate * time) / 100)\n",
    "print(\"Simple interest is: \", simple_interest)"
   ]
  },
  {
   "cell_type": "markdown",
   "metadata": {},
   "source": [
    "Principal = 10000.50        principal = 10000\n",
    "Rate = 5% = 5/100 = 0.05    //Anually  \n",
    "Rate = 0.05                 //Monthly"
   ]
  },
  {
   "cell_type": "markdown",
   "metadata": {},
   "source": [
    "Write a program to calculate simple interest:\n",
    "\n",
    "pricipal = 150000.67\n",
    "Rate = 5.5% @ monthly\n",
    "Time = 2.5 years"
   ]
  },
  {
   "cell_type": "markdown",
   "metadata": {},
   "source": [
    "# Pythogorus Theorem\n",
    "* (Hypotenuse)^2 = (Base)^2 + (Height)^2\n",
    "* Hypotenuse = (Base^2 + Height^2)^0.5"
   ]
  },
  {
   "cell_type": "code",
   "execution_count": 7,
   "metadata": {},
   "outputs": [
    {
     "name": "stdout",
     "output_type": "stream",
     "text": [
      "The hypotenuse is:  14.142135623730951\n"
     ]
    }
   ],
   "source": [
    "Base = int(input(\"Enter the base: \"))\n",
    "Height = int(input(\"Enter the height: \"))\n",
    "Hypotenuse = (Base**2 + Height**2)**0.5\n",
    "print(\"The hypotenuse is: \", Hypotenuse)"
   ]
  },
  {
   "cell_type": "markdown",
   "metadata": {},
   "source": [
    "# Above program in if-else"
   ]
  },
  {
   "cell_type": "code",
   "execution_count": 10,
   "metadata": {},
   "outputs": [
    {
     "name": "stdout",
     "output_type": "stream",
     "text": [
      "Invalid Choice\n"
     ]
    }
   ],
   "source": [
    "choice = input(\"Enter your choice: \")\n",
    "if choice == 'Hypotenuse':\n",
    "    prependicular = int(input(\"Enter the value of perpendicular: \"))\n",
    "    base = int(input(\"Enter the value of base: \"))\n",
    "    Hypotenuse = (prependicular**2 + base**2)**0.5\n",
    "    print(\"Hypotenuse is: \", Hypotenuse)\n",
    "elif choice == 'Perpendicular':\n",
    "    Hypotenuse = int(input(\"Enter the value of Hypotenuse: \"))\n",
    "    base = int(input(\"Enter the value of base: \"))\n",
    "    Perpendicular = (Hypotenuse**2 - base**2)**0.5\n",
    "    print(\"Perpendicular is: \", Perpendicular)\n",
    "elif choice == 'Base':\n",
    "    Hypotenuse = int(input(\"Enter the value of Hypotenuse: \"))\n",
    "    Perpendicular = int(input(\"Enter the value of Perpendicular: \"))\n",
    "    Base = (Hypotenuse**2 - Perpendicular**2)**0.5\n",
    "    print(\"Base is: \", Base)\n",
    "else:\n",
    "    print(\"Invalid Choice\")"
   ]
  },
  {
   "cell_type": "markdown",
   "metadata": {},
   "source": [
    "# Maximum between the three"
   ]
  },
  {
   "cell_type": "code",
   "execution_count": 4,
   "metadata": {},
   "outputs": [
    {
     "name": "stdout",
     "output_type": "stream",
     "text": [
      "True b\n"
     ]
    }
   ],
   "source": [
    "a = int(input(\"Enter first number: \"))\n",
    "b = int(input(\"Enter second number: \"))\n",
    "c = int(input(\"Enter third number: \"))\n",
    "d = int(input(\"Enter fourth number: \"))\n",
    "\n",
    "if a > b and a > c and a > d:\n",
    "    print(True, 'a')\n",
    "elif b > a and b > c and b > d:\n",
    "    print(True, 'b')\n",
    "elif c > a and c > b and c > d:\n",
    "    print(True, 'c')\n",
    "else:\n",
    "    print(True, 'd')"
   ]
  },
  {
   "cell_type": "markdown",
   "metadata": {},
   "source": [
    "a = 12\n",
    "b = 15\n",
    "c = 4\n",
    "d = 13"
   ]
  },
  {
   "cell_type": "markdown",
   "metadata": {},
   "source": [
    "# Write a program to check whether a number is even or odd."
   ]
  },
  {
   "cell_type": "code",
   "execution_count": 7,
   "metadata": {},
   "outputs": [
    {
     "name": "stdout",
     "output_type": "stream",
     "text": [
      "Even\n"
     ]
    }
   ],
   "source": [
    "a = int(input(\"Enter a number: \"))\n",
    "# a%2 == 0\n",
    "\n",
    "# % = Remainder Value\n",
    "# / = Quotient Value\n",
    "if a%2 == 0:\n",
    "    print(\"Even\")\n",
    "else:\n",
    "    print(\"Odd\")"
   ]
  },
  {
   "cell_type": "code",
   "execution_count": 11,
   "metadata": {},
   "outputs": [
    {
     "name": "stdout",
     "output_type": "stream",
     "text": [
      "0\n",
      "True\n"
     ]
    }
   ],
   "source": [
    "print(12%2)\n",
    "print(12%2 == 0)"
   ]
  },
  {
   "cell_type": "code",
   "execution_count": 2,
   "metadata": {},
   "outputs": [
    {
     "name": "stdout",
     "output_type": "stream",
     "text": [
      "Consonant\n"
     ]
    }
   ],
   "source": [
    "#Vowels and Consonants\n",
    "char = input(\"Enter any charater: \")\n",
    "if char == 'A' or char == 'E' or char == 'I' or char == 'O' or char == 'U' or char == 'a' or char == 'e' or char == 'i' or char == 'o' or char == 'u':\n",
    "    print(\"Vowel\")\n",
    "else:\n",
    "    print(\"Consonant\")"
   ]
  },
  {
   "cell_type": "code",
   "execution_count": 7,
   "metadata": {},
   "outputs": [
    {
     "name": "stdout",
     "output_type": "stream",
     "text": [
      "Vowel\n"
     ]
    }
   ],
   "source": [
    "char = input(\"Enter a character: \")\n",
    "if char.lower() == 'a' or char.lower == 'e' or char.lower() == 'i' or char.lower() == 'o' or char.lower() == 'u':\n",
    "    print(\"Vowel\")\n",
    "else:\n",
    "    print(\"Consonant\")"
   ]
  },
  {
   "cell_type": "code",
   "execution_count": 4,
   "metadata": {},
   "outputs": [
    {
     "name": "stdout",
     "output_type": "stream",
     "text": [
      "Grade D\n"
     ]
    }
   ],
   "source": [
    "#Calculate percentage of students who passed in all subjects\n",
    "physicsMarks = input(\"Enter Physics Marks: \")\n",
    "chemistryMarks = input(\"Enter Chemistry Marks: \")\n",
    "biologyMarks = input(\"Enter Biology Marks: \")\n",
    "mathsMarks = input(\"Enter Maths Marks: \")\n",
    "computerMarks = input(\"Enter Computer Marks: \")\n",
    " \n",
    "#percentage = (Attained Marks / Total Marks) * 100\n",
    "percentage = (int(physicsMarks) + int(chemistryMarks) + int(biologyMarks) + int(mathsMarks) + int(computerMarks)) / 5\n",
    "\n",
    "if percentage >= 90:\n",
    "    print(\"Grade A\")\n",
    "elif percentage >= 80:\n",
    "    print(\"Grade B\")\n",
    "elif percentage >= 70:\n",
    "    print(\"Grade C\")\n",
    "elif percentage >= 60: #->ture\n",
    "    print(\"Grade D\")\n",
    "elif percentage >= 40:\n",
    "    print(\"Grade E\")\n",
    "else:\n",
    "    print(\"Grade F\")"
   ]
  },
  {
   "cell_type": "code",
   "execution_count": null,
   "metadata": {},
   "outputs": [],
   "source": [
    "#Calculate Gross Salaray of an Employee\n",
    "#Gross Salary = Basic + HRA + DA\n",
    "basicSalary = int(input(\"Enter Basic Salary: \"))\n",
    "grossSalary = 0\n",
    "if basicSalary <= 10000:\n",
    "    grossSalary = basicSalary + (basicSalary * 0.2) + (basicSalary * 0.8)\n",
    "    print(\"Gross Salary: \", grossSalary)\n",
    "elif basicSalary <= 20000:\n",
    "    grossSalary = basicSalary + (basicSalary * 0.25) + (basicSalary * 0.9)\n",
    "    print(\"Gross Salary: \", grossSalary)\n",
    "else:\n",
    "    grossSalary = basicSalary + (basicSalary * 0.3) + (basicSalary * 0.95)\n",
    "    print(\"Gross Salary: \", grossSalary)"
   ]
  },
  {
   "cell_type": "code",
   "execution_count": null,
   "metadata": {},
   "outputs": [],
   "source": [
    "basicSalary = int(input(\"Enter Basic Salary: \"))\n",
    "if basicSalary <= 10000:\n",
    "    print(basicSalary + (basicSalary * 0.2) + (basicSalary * 0.8))\n",
    "elif basicSalary <= 20000:\n",
    "    print(basicSalary + (basicSalary * 0.25) + (basicSalary * 0.9))\n",
    "else:\n",
    "    print(basicSalary + (basicSalary * 0.3) + (basicSalary * 0.95))"
   ]
  },
  {
   "cell_type": "markdown",
   "metadata": {},
   "source": [
    "Write a program to calculate the electricity bill of a user according the unit consumed. \n",
    "If Unit < 150  No Charges\n",
    "If Unit >= 150 < 200 Rs. 5.5 Per Unit charge\n",
    "If Unit >= 200 < 300 Rs. 6.5 Per Unit charge\n",
    "If Unit > 300 Rs. 8 per Unit Charge"
   ]
  },
  {
   "cell_type": "code",
   "execution_count": 6,
   "metadata": {},
   "outputs": [
    {
     "name": "stdout",
     "output_type": "stream",
     "text": [
      "Total bill:  0\n"
     ]
    }
   ],
   "source": [
    "unit = int(input(\"Enter total unit: \"))\n",
    "total_bill = 0\n",
    "if unit < 150:\n",
    "    print(\"Total bill: \",total_bill)\n",
    "elif unit >= 150 and unit < 200:\n",
    "    total_bill = unit * 5.5\n",
    "    print(\"Total bill: \", total_bill)\n",
    "elif unit >= 200 and unit < 300:\n",
    "    total_bill = unit * 6.5\n",
    "    print(\"Total bill: \", total_bill)\n",
    "else:\n",
    "    total_bill = unit * 8\n",
    "    print(\"Total bill: \", total_bill)"
   ]
  },
  {
   "cell_type": "markdown",
   "metadata": {},
   "source": [
    "# Write a program to calculate the area of any shape selected by the user\n",
    "    * if choice = Rectangle \n",
    "        lenght * breath\n",
    "    * if choice = square \n",
    "        side*side\n",
    "    * if choice = Triangle \n",
    "        1/2*base*height\n",
    "    * if choice = cube \n",
    "        side * side * side\n",
    "    * if choice = cuboid\n",
    "        lenght * breath * height\n",
    "    * if choice = circle\n",
    "        2*pie*r*r  (pie = 3.14)"
   ]
  },
  {
   "cell_type": "code",
   "execution_count": null,
   "metadata": {},
   "outputs": [],
   "source": [
    "choice = input(\"Enter your choice: \")\n",
    "area = 0\n",
    "match choice:\n",
    "    case \"Square\":\n",
    "        side = int(input(\"Enter side: \"))\n",
    "        area = side**2\n",
    "        print(\"Area of square is: \", area)\n",
    "    case \"Rectangle\":\n",
    "        length = int(input(\"Enter length: \"))\n",
    "        breadth = int(input(\"Enter breadth: \"))\n",
    "        area = length*breadth\n",
    "        print(\"Area of rectangle is: \", area)\n",
    "    case \"Circle\":\n",
    "        radius = int(input(\"Enter radius: \"))\n",
    "        area = 3.14*radius**2\n",
    "        print(\"Area of circle is: \", area)\n",
    "    case \"Triangle\":\n",
    "        base = int(input(\"Enter base: \"))\n",
    "        height = int(input(\"Enter height: \"))\n",
    "        area = 0.5*base*height\n",
    "        print(\"Area of triangle is: \", area)\n",
    "    case \"cube\":\n",
    "        side = int(input(\"Enter side: \"))\n",
    "        area = 6*side**2\n",
    "        print(\"Area of cube is: \", area)\n",
    "    case \"Cuboid\":\n",
    "        length = int(input(\"Enter length: \"))\n",
    "        breadth = int(input(\"Enter breadth: \"))\n",
    "        height = int(input(\"Enter height: \"))\n",
    "        area = 2*(length*breadth + breadth*height + height*length)\n",
    "        print(\"Area of cuboid is: \", area)\n",
    "    case \"Cylinder\":\n",
    "        radius = int(input(\"Enter radius: \"))\n",
    "        height = int(input(\"Enter height: \"))\n",
    "        area = 2*3.14*radius*height\n",
    "        print(\"Area of cylinder is: \", area)\n",
    "    case \"Sphere\":\n",
    "        radius = int(input(\"Enter radius: \"))\n",
    "        area = 4*3.14*radius**2\n",
    "        print(\"Area of sphere is: \", area)\n",
    "    case _:\n",
    "        print(\"Invalid choice\")"
   ]
  }
 ],
 "metadata": {
  "kernelspec": {
   "display_name": "Python 3",
   "language": "python",
   "name": "python3"
  },
  "language_info": {
   "codemirror_mode": {
    "name": "ipython",
    "version": 3
   },
   "file_extension": ".py",
   "mimetype": "text/x-python",
   "name": "python",
   "nbconvert_exporter": "python",
   "pygments_lexer": "ipython3",
   "version": "3.10.9"
  },
  "orig_nbformat": 4
 },
 "nbformat": 4,
 "nbformat_minor": 2
}
