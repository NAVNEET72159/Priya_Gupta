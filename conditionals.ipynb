{
 "cells": [
  {
   "cell_type": "markdown",
   "metadata": {},
   "source": [
    "## Conditionals\n",
    "* if-else \n",
    "    * It intreprets any value as true except 0\n",
    "        * For Example: if 3:, if -6:, if 6/3: \n",
    "    * It interprets any string as true except empty (\"\") string\n",
    "        * For Example: if \"NAV\":, if \"PRI\", if \"SHA\" \n",
    "    * It interprets None value as False\n",
    "* match-case"
   ]
  },
  {
   "cell_type": "markdown",
   "metadata": {},
   "source": [
    "# Normal if-else Statement\n",
    "* When two contiotion are there"
   ]
  },
  {
   "cell_type": "code",
   "execution_count": 3,
   "metadata": {},
   "outputs": [
    {
     "name": "stdout",
     "output_type": "stream",
     "text": [
      "b is greater than a\n"
     ]
    }
   ],
   "source": [
    "#Normal if-else statement\n",
    "a = 10\n",
    "b = 20\n",
    "\n",
    "if a > b:\n",
    "    print(\"a is greater than b\")\n",
    "else:\n",
    "    print(\"b is greater than a\")"
   ]
  },
  {
   "cell_type": "markdown",
   "metadata": {},
   "source": [
    "# Ladder if-else conditionals\n",
    "* Used when we have more than two conditions"
   ]
  },
  {
   "cell_type": "code",
   "execution_count": 11,
   "metadata": {},
   "outputs": [
    {
     "name": "stdout",
     "output_type": "stream",
     "text": [
      "31 days\n"
     ]
    }
   ],
   "source": [
    "#ladder if-else statement\n",
    "month = input(\"Enter the month name: \")\n",
    "if month == 'January': \n",
    "    print(\"31 days\")\n",
    "elif month == 'February':\n",
    "    print(\"28 or 29 days\")\n",
    "elif month == 'March':\n",
    "    print(\"31 days\")\n",
    "elif month == 'April': \n",
    "    print(\"30 days\")\n",
    "elif month == 'May':\n",
    "    print(\"31 days\")\n",
    "elif month == 'June':\n",
    "    print(\"30 days\")\n",
    "elif month == 'July':\n",
    "    print(\"31 days\")\n",
    "elif month == 'August':\n",
    "    print(\"31 days\")\n",
    "elif month == 'September':\n",
    "    print(\"30 days\")\n",
    "elif month == 'October':\n",
    "    print(\"31 days\")\n",
    "elif month == 'November':\n",
    "    print(\"30 days\")\n",
    "elif month == 'December':\n",
    "    print(\"31 days\")\n",
    "else:\n",
    "    print(\"Wrong month name\")"
   ]
  },
  {
   "cell_type": "code",
   "execution_count": 5,
   "metadata": {},
   "outputs": [
    {
     "name": "stdout",
     "output_type": "stream",
     "text": [
      "False\n"
     ]
    }
   ],
   "source": [
    "if \"\":\n",
    "    print('True')\n",
    "else:\n",
    "    print('False')"
   ]
  },
  {
   "cell_type": "code",
   "execution_count": null,
   "metadata": {},
   "outputs": [],
   "source": []
  }
 ],
 "metadata": {
  "kernelspec": {
   "display_name": "base",
   "language": "python",
   "name": "python3"
  },
  "language_info": {
   "codemirror_mode": {
    "name": "ipython",
    "version": 3
   },
   "file_extension": ".py",
   "mimetype": "text/x-python",
   "name": "python",
   "nbconvert_exporter": "python",
   "pygments_lexer": "ipython3",
   "version": "3.10.9"
  },
  "orig_nbformat": 4
 },
 "nbformat": 4,
 "nbformat_minor": 2
}
